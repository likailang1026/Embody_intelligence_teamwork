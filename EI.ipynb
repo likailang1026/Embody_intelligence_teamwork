{
  "nbformat": 4,
  "nbformat_minor": 0,
  "metadata": {
    "colab": {
      "provenance": [],
      "collapsed_sections": [
        "bcRs6Cke5S1m"
      ]
    },
    "kernelspec": {
      "name": "python3",
      "display_name": "Python 3"
    },
    "language_info": {
      "name": "python"
    }
  },
  "cells": [
    {
      "cell_type": "markdown",
      "source": [
        "这张图展示了一个名为\"Path Planning Transformers (PPT)\"的路径规划系统，它是一个为移动机器人设计的、由改进版RRT*算法监督的路径规划转换器。我来详细解释这个系统的工作流程：\n",
        "\n",
        "1. 路径规划任务（Path-planning Task）\n",
        "- 输入包括：起始点（蓝色方块）、目标点（绿色方块）和地图环境\n",
        "- 地图中的黑色区域代表障碍物\n",
        "\n",
        "2. 模型构建和训练（Model Construction and Training）\n",
        "- 系统使用480×480像素的随机森林地图生成样本\n",
        "- 将地图尺寸缩减到224×224像素并进行分块处理\n",
        "- 每个分块大小为32×32像素，总共49个分块\n",
        "- 使用IRRT-RRMS（改进的快速随机树算法）生成解决方案\n",
        "- 将解决方案转换为CSV文件格式\n",
        "\n",
        "3. 解决方案预测（Solution Prediction）\n",
        "- 使用Path Planning Transformer (PPT)模型进行预测\n",
        "- 模型输入包括坐标(X, Y)和类型信息（起点、终点、中间点）\n",
        "- 通过迭代方式生成路径点，直到达到停止点\n",
        "\n",
        "4. 路径规划解决方案（Path-planning Solution）\n",
        "- 如果需要，使用细菌突变和节点删除算法进行后处理优化\n",
        "- 最终输出包括中间点和完整的解决方案路径（红线）\n",
        "\n",
        "这个系统的创新之处在于：\n",
        "- 结合了深度学习（Transformer架构）和传统路径规划算法（RRT*）\n",
        "- 通过降低随机地图大小来提高效率\n",
        "- 使用分块处理来处理复杂环境\n",
        "- 包含后处理优化步骤以改善路径质量\n",
        "\n",
        "该方法可以有效地为移动机器人在复杂环境中规划出避开障碍物的最优路径。\n"
      ],
      "metadata": {
        "id": "5WXnQQMKeixR"
      }
    },
    {
      "cell_type": "markdown",
      "source": [
        "# 构建数据集"
      ],
      "metadata": {
        "id": "Gw9KZrKuchxX"
      }
    },
    {
      "cell_type": "markdown",
      "source": [
        "1. 随机森林地图生成与标注\n",
        "使用算法生成随机森林地图。\n",
        "地图尺寸为480×480像素。\n",
        "地图需要包含明确的起始点（蓝色方块）、目标点（绿色方块）以及障碍物区域（黑色区域）。\n",
        "根据生成的地图，使用IRRT-RRMS算法（改进的快速随机树算法）生成路径解决方案。\n",
        "确保解决方案包含所有路径点（包括起点、终点、中间点）。"
      ],
      "metadata": {
        "id": "esoBTu2icjN1"
      }
    },
    {
      "cell_type": "code",
      "source": [
        "import os\n",
        "import numpy as np\n",
        "import matplotlib.pyplot as plt\n",
        "from matplotlib.patches import Rectangle, Circle\n",
        "import random\n",
        "from scipy.spatial import KDTree\n",
        "from dataclasses import dataclass\n",
        "from typing import List, Tuple, Dict\n",
        "import yaml\n",
        "import logging\n",
        "\n",
        "# 配置日志记录\n",
        "logging.basicConfig(\n",
        "    level=logging.INFO,  # 设置日志等级为 INFO\n",
        "    format='%(asctime)s - %(levelname)s - %(message)s',  # 日志格式\n",
        "    handlers=[logging.StreamHandler()]  # 输出到控制台\n",
        ")\n",
        "\n",
        ""
      ],
      "metadata": {
        "id": "8Oc0Ds5g6_AB"
      },
      "execution_count": 2,
      "outputs": []
    },
    {
      "cell_type": "code",
      "source": [
        "@dataclass\n",
        "class MapConfig:\n",
        "    size: int = 480\n",
        "    num_obstacles: int = 50\n",
        "    marker_size: int = 15\n",
        "    clearance: int = 20\n",
        "    output_dir: str = \"output\"\n",
        "    num_maps: int = 100\n",
        "    step_size: int = 15\n",
        "    max_iterations: int = 2000\n",
        "\n",
        "class Obstacle:\n",
        "    def is_collision(self, point: np.ndarray) -> bool:\n",
        "        raise NotImplementedError\n",
        "\n",
        "    def to_dict(self) -> dict:\n",
        "        raise NotImplementedError\n",
        "\n",
        "class CircleObstacle(Obstacle):\n",
        "    def __init__(self, center: Tuple[float, float], radius: float):\n",
        "        self.center = np.array(center, dtype=float)\n",
        "        self.radius = radius\n",
        "\n",
        "    def is_collision(self, point: np.ndarray) -> bool:\n",
        "        return np.linalg.norm(point - self.center) < self.radius\n",
        "\n",
        "    def to_dict(self) -> dict:\n",
        "        return {'x': self.center[0], 'y': self.center[1], 'shape': 'circle', 'radius': self.radius}\n",
        "\n",
        "class RectangleObstacle(Obstacle):\n",
        "    def __init__(self, x: float, y: float, width: float, height: float):\n",
        "        self.x = x\n",
        "        self.y = y\n",
        "        self.width = width\n",
        "        self.height = height\n",
        "\n",
        "    def is_collision(self, point: np.ndarray) -> bool:\n",
        "        return self.x <= point[0] <= self.x + self.width and self.y <= point[1] <= self.y + self.height\n",
        "\n",
        "    def to_dict(self) -> dict:\n",
        "        return {'x': self.x, 'y': self.y, 'shape': 'rectangle', 'width': self.width, 'height': self.height}\n",
        ""
      ],
      "metadata": {
        "id": "mMwPtV077Eho"
      },
      "execution_count": 8,
      "outputs": []
    },
    {
      "cell_type": "code",
      "source": [
        "class IRRT_RRMS:\n",
        "    def __init__(self, start: np.ndarray, goal: np.ndarray, obstacles: List[Obstacle], config: MapConfig):\n",
        "        self.start = start\n",
        "        self.goal = goal\n",
        "        self.obstacles = obstacles\n",
        "        self.config = config\n",
        "        self.nodes = [start]\n",
        "        self.parents = {tuple(start): None}\n",
        "        self.kdtree = KDTree([start])\n",
        "\n",
        "    def is_collision_free(self, point: np.ndarray) -> bool:\n",
        "        if not (0 <= point[0] <= self.config.size and 0 <= point[1] <= self.config.size):\n",
        "            return False\n",
        "        return all(not obs.is_collision(point) for obs in self.obstacles)\n",
        "\n",
        "    def is_path_collision_free(self, start: np.ndarray, end: np.ndarray) -> bool:\n",
        "        direction = end - start\n",
        "        distance = np.linalg.norm(direction)\n",
        "        steps = int(distance / 5) + 1\n",
        "        for i in range(steps):\n",
        "            point = start + direction * (i / steps)\n",
        "            if not self.is_collision_free(point):\n",
        "                return False\n",
        "        return True\n",
        "\n",
        "    def find_path(self) -> List[Tuple[float, float]]:\n",
        "        for _ in range(self.config.max_iterations):\n",
        "            rand_point = self.goal if random.random() < 0.1 else np.random.uniform(0, self.config.size, 2)\n",
        "            _, idx = self.kdtree.query(rand_point)\n",
        "            nearest_node = self.nodes[idx]\n",
        "            direction = rand_point - nearest_node\n",
        "            distance = np.linalg.norm(direction)\n",
        "            if distance > self.config.step_size:\n",
        "                direction = direction / distance * self.config.step_size\n",
        "            new_node = nearest_node + direction\n",
        "\n",
        "            if self.is_collision_free(new_node) and self.is_path_collision_free(nearest_node, new_node):\n",
        "                self.nodes.append(new_node)\n",
        "                self.parents[tuple(new_node)] = tuple(nearest_node)\n",
        "                self.kdtree = KDTree(self.nodes)\n",
        "\n",
        "                if np.linalg.norm(new_node - self.goal) < self.config.step_size:\n",
        "                    self.parents[tuple(self.goal)] = tuple(new_node)\n",
        "                    return self.reconstruct_path()\n",
        "        return []\n",
        "\n",
        "    def reconstruct_path(self) -> List[Tuple[float, float]]:\n",
        "        path = [tuple(self.goal)]\n",
        "        current = tuple(self.goal)\n",
        "        while current in self.parents:\n",
        "            parent = self.parents[current]\n",
        "            if parent is None:\n",
        "                break\n",
        "            path.append(parent)\n",
        "            current = parent\n",
        "        return path[::-1]\n",
        ""
      ],
      "metadata": {
        "id": "poJ2-aEE7HM8"
      },
      "execution_count": 4,
      "outputs": []
    },
    {
      "cell_type": "code",
      "source": [
        "class PathPlanner:\n",
        "    def __init__(self, config: MapConfig):\n",
        "        self.config = config\n",
        "        self.map_dir = os.path.join(config.output_dir, \"maps\")\n",
        "        self.coord_dir = os.path.join(config.output_dir, \"coordinates\")\n",
        "        os.makedirs(self.map_dir, exist_ok=True)\n",
        "        os.makedirs(self.coord_dir, exist_ok=True)\n",
        "\n",
        "    def generate_maps(self):\n",
        "        for index in range(1, self.config.num_maps + 1):\n",
        "            try:\n",
        "                self.generate_single_map(index)\n",
        "                print(f\"Map {index} generated successfully.\")\n",
        "            except Exception as e:\n",
        "                print(f\"Failed to generate map {index}: {e}\")\n",
        "    def generate_single_map(self, index: int):\n",
        "      try:\n",
        "          print(f\"Generating map {index}...\")\n",
        "\n",
        "          fig, ax = plt.subplots(figsize=(10, 10))\n",
        "          ax.set_facecolor('white')\n",
        "          ax.set_xlim(0, self.config.size)\n",
        "          ax.set_ylim(0, self.config.size)\n",
        "          ax.axis('off')\n",
        "\n",
        "          print(f\"Generating obstacles for map {index}...\")\n",
        "          obstacles = []\n",
        "          for _ in range(self.config.num_obstacles):\n",
        "              if random.random() < 0.6:\n",
        "                  radius = random.randint(10, 20)\n",
        "                  center = (random.randint(radius, self.config.size - radius),\n",
        "                            random.randint(radius, self.config.size - radius))\n",
        "                  obstacle = CircleObstacle(center, radius)\n",
        "              else:\n",
        "                  size_square = random.randint(20, 30)\n",
        "                  x = random.randint(0, self.config.size - size_square)\n",
        "                  y = random.randint(0, self.config.size - size_square)\n",
        "                  obstacle = RectangleObstacle(x, y, size_square, size_square)\n",
        "\n",
        "              if all(not obs.is_collision(obstacle.center if isinstance(obstacle, CircleObstacle)\n",
        "                                        else [x + size_square / 2, y + size_square / 2])\n",
        "                    for obs in obstacles):\n",
        "                  obstacles.append(obstacle)\n",
        "                  if isinstance(obstacle, CircleObstacle):\n",
        "                      ax.add_patch(Circle(obstacle.center, obstacle.radius, facecolor='black'))\n",
        "                  else:\n",
        "                      ax.add_patch(Rectangle((obstacle.x, obstacle.y),\n",
        "                                            obstacle.width, obstacle.height,\n",
        "                                            facecolor='black'))\n",
        "\n",
        "          print(f\"Obstacles generated successfully for map {index}.\")\n",
        "\n",
        "          while True:\n",
        "              start_point = np.random.uniform(0, self.config.size // 3, 2)\n",
        "              if all(not obs.is_collision(start_point) for obs in obstacles):\n",
        "                  break\n",
        "\n",
        "          print(f\"Start point for map {index}: {start_point}.\")\n",
        "\n",
        "          while True:\n",
        "              goal_point = np.random.uniform(2 * self.config.size // 3, self.config.size, 2)\n",
        "              if all(not obs.is_collision(goal_point) for obs in obstacles):\n",
        "                  break\n",
        "\n",
        "          print(f\"Goal point for map {index}: {goal_point}.\")\n",
        "\n",
        "          ax.add_patch(Rectangle((start_point[0] - self.config.marker_size / 2,\n",
        "                                start_point[1] - self.config.marker_size / 2),\n",
        "                              self.config.marker_size, self.config.marker_size,\n",
        "                              facecolor='blue'))\n",
        "          ax.add_patch(Rectangle((goal_point[0] - self.config.marker_size / 2,\n",
        "                                goal_point[1] - self.config.marker_size / 2),\n",
        "                              self.config.marker_size, self.config.marker_size,\n",
        "                              facecolor='green'))\n",
        "\n",
        "          print(f\"Running path planning for map {index}...\")\n",
        "          planner = IRRT_RRMS(start_point, goal_point, obstacles, self.config)\n",
        "          path = planner.find_path()\n",
        "\n",
        "          if path:\n",
        "              path = [[float(x), float(y)] for x, y in path]\n",
        "              path_array = np.array(path)\n",
        "              ax.plot(path_array[:, 0], path_array[:, 1], color='red', linewidth=2)\n",
        "              print(f\"Path found for map {index}.\")\n",
        "          else:\n",
        "              print(f\"No path found for map {index}.\")\n",
        "\n",
        "          # 保存地图图像\n",
        "          map_path = os.path.join(self.map_dir, f\"map_{index:02d}.png\")\n",
        "          plt.savefig(map_path, bbox_inches='tight', pad_inches=0, dpi=100)\n",
        "          plt.close(fig)\n",
        "          print(f\"Map image saved for map {index} at {map_path}.\")\n",
        "\n",
        "          # 保存坐标数据\n",
        "          coord_data = {\n",
        "\n",
        "              'start_point': [float(start_point[0]), float(start_point[1])],\n",
        "              'goal_point': [float(goal_point[0]), float(goal_point[1])],\n",
        "              'obstacles': [\n",
        "                  {\n",
        "                      'shape': 'circle' if isinstance(obs, CircleObstacle) else 'rectangle',\n",
        "                      'x': float(obs.center[0]) if isinstance(obs, CircleObstacle) else float(obs.x),\n",
        "                      'y': float(obs.center[1]) if isinstance(obs, CircleObstacle) else float(obs.y),\n",
        "                      **(\n",
        "                          {'radius': float(obs.radius)} if isinstance(obs, CircleObstacle)\n",
        "                          else {'width': float(obs.width), 'height': float(obs.height)}\n",
        "                      )\n",
        "                  }\n",
        "                  for obs in obstacles\n",
        "              ],\n",
        "              'path': path if path else []\n",
        "          }\n",
        "\n",
        "          coord_path = os.path.join(self.coord_dir, f\"coordinates_{index:02d}.yaml\")\n",
        "          with open(coord_path, 'w') as f:\n",
        "              yaml.safe_dump(coord_data, f, default_flow_style=False, sort_keys=False)\n",
        "          print(f\"Coordinate file saved for map {index} at {coord_path}.\")\n",
        "\n",
        "      except Exception as e:\n",
        "          print(f\"Error generating map {index}: {str(e)}\")\n",
        "          raise\n",
        ""
      ],
      "metadata": {
        "id": "hJBC2bH-9Q8O"
      },
      "execution_count": 5,
      "outputs": []
    },
    {
      "cell_type": "code",
      "source": [
        "from tqdm import tqdm  # 引入 tqdm 用于显示进度条\n",
        "\n",
        "class PathPlanner:\n",
        "    def __init__(self, config: MapConfig):\n",
        "        self.config = config\n",
        "        self.map_dir = os.path.join(config.output_dir, \"maps\")\n",
        "        self.coord_dir = os.path.join(config.output_dir, \"coordinates\")\n",
        "        os.makedirs(self.map_dir, exist_ok=True)\n",
        "        os.makedirs(self.coord_dir, exist_ok=True)\n",
        "\n",
        "    def generate_maps(self):\n",
        "        # 使用 tqdm 包裹范围生成器，显示进度条\n",
        "        for index in tqdm(range(1, self.config.num_maps + 1), desc=\"Generating Maps\"):\n",
        "            try:\n",
        "                self.generate_single_map(index)\n",
        "                print(f\"Map {index} generated successfully.\")\n",
        "            except Exception as e:\n",
        "                print(f\"Failed to generate map {index}: {e}\")\n",
        "\n",
        "    def generate_single_map(self, index: int):\n",
        "        try:\n",
        "            #print(f\"Generating map {index}...\")\n",
        "\n",
        "            fig, ax = plt.subplots(figsize=(10, 10))\n",
        "            ax.set_facecolor('white')\n",
        "            ax.set_xlim(0, self.config.size)\n",
        "            ax.set_ylim(0, self.config.size)\n",
        "            ax.axis('off')\n",
        "\n",
        "            #print(f\"Generating obstacles for map {index}...\")\n",
        "            obstacles = []\n",
        "            for _ in range(self.config.num_obstacles):\n",
        "                if random.random() < 0.6:\n",
        "                    radius = random.randint(10, 20)\n",
        "                    center = (random.randint(radius, self.config.size - radius),\n",
        "                              random.randint(radius, self.config.size - radius))\n",
        "                    obstacle = CircleObstacle(center, radius)\n",
        "                else:\n",
        "                    size_square = random.randint(20, 30)\n",
        "                    x = random.randint(0, self.config.size - size_square)\n",
        "                    y = random.randint(0, self.config.size - size_square)\n",
        "                    obstacle = RectangleObstacle(x, y, size_square, size_square)\n",
        "\n",
        "                if all(not obs.is_collision(obstacle.center if isinstance(obstacle, CircleObstacle)\n",
        "                                           else [x + size_square / 2, y + size_square / 2])\n",
        "                      for obs in obstacles):\n",
        "                    obstacles.append(obstacle)\n",
        "                    if isinstance(obstacle, CircleObstacle):\n",
        "                        ax.add_patch(Circle(obstacle.center, obstacle.radius, facecolor='black'))\n",
        "                    else:\n",
        "                        ax.add_patch(Rectangle((obstacle.x, obstacle.y),\n",
        "                                              obstacle.width, obstacle.height,\n",
        "                                              facecolor='black'))\n",
        "\n",
        "            #print(f\"Obstacles generated successfully for map {index}.\")\n",
        "\n",
        "            while True:\n",
        "                start_point = np.random.uniform(0, self.config.size // 3, 2)\n",
        "                if all(not obs.is_collision(start_point) for obs in obstacles):\n",
        "                    break\n",
        "\n",
        "            #print(f\"Start point for map {index}: {start_point}.\")\n",
        "\n",
        "            while True:\n",
        "                goal_point = np.random.uniform(2 * self.config.size // 3, self.config.size, 2)\n",
        "                if all(not obs.is_collision(goal_point) for obs in obstacles):\n",
        "                    break\n",
        "\n",
        "            #print(f\"Goal point for map {index}: {goal_point}.\")\n",
        "\n",
        "            ax.add_patch(Rectangle((start_point[0] - self.config.marker_size / 2,\n",
        "                                  start_point[1] - self.config.marker_size / 2),\n",
        "                              self.config.marker_size, self.config.marker_size,\n",
        "                              facecolor='blue'))\n",
        "            ax.add_patch(Rectangle((goal_point[0] - self.config.marker_size / 2,\n",
        "                                  goal_point[1] - self.config.marker_size / 2),\n",
        "                              self.config.marker_size, self.config.marker_size,\n",
        "                              facecolor='green'))\n",
        "\n",
        "            #print(f\"Running path planning for map {index}...\")\n",
        "            planner = IRRT_RRMS(start_point, goal_point, obstacles, self.config)\n",
        "            path = planner.find_path()\n",
        "\n",
        "            if path:\n",
        "                path = [[float(x), float(y)] for x, y in path]\n",
        "                path_array = np.array(path)\n",
        "                ax.plot(path_array[:, 0], path_array[:, 1], color='red', linewidth=2)\n",
        "                print(f\"Path found for map {index}.\")\n",
        "            else:\n",
        "                print(f\"No path found for map {index}.\")\n",
        "\n",
        "            # 保存地图图像\n",
        "            map_path = os.path.join(self.map_dir, f\"map_{index:02d}.png\")\n",
        "            plt.savefig(map_path, bbox_inches='tight', pad_inches=0, dpi=100)\n",
        "            plt.close(fig)\n",
        "            #print(f\"Map image saved for map {index} at {map_path}.\")\n",
        "\n",
        "            # 保存坐标数据\n",
        "            coord_data = {\n",
        "                'start_point': [float(start_point[0]), float(start_point[1])],\n",
        "                'goal_point': [float(goal_point[0]), float(goal_point[1])],\n",
        "                'obstacles': [\n",
        "                    {\n",
        "                        'shape': 'circle' if isinstance(obs, CircleObstacle) else 'rectangle',\n",
        "                        'x': float(obs.center[0]) if isinstance(obs, CircleObstacle) else float(obs.x),\n",
        "                        'y': float(obs.center[1]) if isinstance(obs, CircleObstacle) else float(obs.y),\n",
        "                        **(\n",
        "                            {'radius': float(obs.radius)} if isinstance(obs, CircleObstacle)\n",
        "                            else {'width': float(obs.width), 'height': float(obs.height)}\n",
        "                        )\n",
        "                    }\n",
        "                    for obs in obstacles\n",
        "                ],\n",
        "                'path': path if path else []\n",
        "            }\n",
        "\n",
        "            coord_path = os.path.join(self.coord_dir, f\"coordinates_{index:02d}.yaml\")\n",
        "            with open(coord_path, 'w') as f:\n",
        "                yaml.safe_dump(coord_data, f, default_flow_style=False, sort_keys=False)\n",
        "            #print(f\"Coordinate file saved for map {index} at {coord_path}.\")\n",
        "\n",
        "        except Exception as e:\n",
        "            #print(f\"Error generating map {index}: {e}\")\n",
        "            raise\n"
      ],
      "metadata": {
        "id": "YntGcudVBRAb"
      },
      "execution_count": 6,
      "outputs": []
    },
    {
      "cell_type": "code",
      "source": [
        "if __name__ == \"__main__\":\n",
        "\n",
        "    config = MapConfig(output_dir=\"./output\")\n",
        "    planner = PathPlanner(config)\n",
        "    planner.generate_maps()\n"
      ],
      "metadata": {
        "colab": {
          "base_uri": "https://localhost:8080/"
        },
        "collapsed": true,
        "id": "469Wr3CB_YIO",
        "outputId": "57192d09-f189-488f-d9ba-05872796ce1b"
      },
      "execution_count": 9,
      "outputs": [
        {
          "output_type": "stream",
          "name": "stderr",
          "text": [
            "\rGenerating Maps:   0%|          | 0/100 [00:00<?, ?it/s]"
          ]
        },
        {
          "output_type": "stream",
          "name": "stdout",
          "text": [
            "Path found for map 1.\n"
          ]
        },
        {
          "output_type": "stream",
          "name": "stderr",
          "text": [
            "\rGenerating Maps:   1%|          | 1/100 [00:00<00:57,  1.72it/s]"
          ]
        },
        {
          "output_type": "stream",
          "name": "stdout",
          "text": [
            "Map 1 generated successfully.\n",
            "Path found for map 2.\n"
          ]
        },
        {
          "output_type": "stream",
          "name": "stderr",
          "text": [
            "\rGenerating Maps:   2%|▏         | 2/100 [00:01<00:54,  1.80it/s]"
          ]
        },
        {
          "output_type": "stream",
          "name": "stdout",
          "text": [
            "Map 2 generated successfully.\n"
          ]
        },
        {
          "output_type": "stream",
          "name": "stderr",
          "text": [
            "\rGenerating Maps:   3%|▎         | 3/100 [00:01<00:50,  1.93it/s]"
          ]
        },
        {
          "output_type": "stream",
          "name": "stdout",
          "text": [
            "Path found for map 3.\n",
            "Map 3 generated successfully.\n",
            "Path found for map 4.\n"
          ]
        },
        {
          "output_type": "stream",
          "name": "stderr",
          "text": [
            "\rGenerating Maps:   4%|▍         | 4/100 [00:02<01:03,  1.51it/s]"
          ]
        },
        {
          "output_type": "stream",
          "name": "stdout",
          "text": [
            "Map 4 generated successfully.\n"
          ]
        },
        {
          "output_type": "stream",
          "name": "stderr",
          "text": [
            "\rGenerating Maps:   5%|▌         | 5/100 [00:02<00:54,  1.74it/s]"
          ]
        },
        {
          "output_type": "stream",
          "name": "stdout",
          "text": [
            "Path found for map 5.\n",
            "Map 5 generated successfully.\n"
          ]
        },
        {
          "output_type": "stream",
          "name": "stderr",
          "text": [
            "\rGenerating Maps:   6%|▌         | 6/100 [00:03<00:48,  1.95it/s]"
          ]
        },
        {
          "output_type": "stream",
          "name": "stdout",
          "text": [
            "Path found for map 6.\n",
            "Map 6 generated successfully.\n"
          ]
        },
        {
          "output_type": "stream",
          "name": "stderr",
          "text": [
            "\rGenerating Maps:   7%|▋         | 7/100 [00:03<00:47,  1.96it/s]"
          ]
        },
        {
          "output_type": "stream",
          "name": "stdout",
          "text": [
            "Path found for map 7.\n",
            "Map 7 generated successfully.\n"
          ]
        },
        {
          "output_type": "stream",
          "name": "stderr",
          "text": [
            "\rGenerating Maps:   8%|▊         | 8/100 [00:04<00:57,  1.59it/s]"
          ]
        },
        {
          "output_type": "stream",
          "name": "stdout",
          "text": [
            "Path found for map 8.\n",
            "Map 8 generated successfully.\n"
          ]
        },
        {
          "output_type": "stream",
          "name": "stderr",
          "text": [
            "\rGenerating Maps:   9%|▉         | 9/100 [00:05<00:49,  1.86it/s]"
          ]
        },
        {
          "output_type": "stream",
          "name": "stdout",
          "text": [
            "Path found for map 9.\n",
            "Map 9 generated successfully.\n"
          ]
        },
        {
          "output_type": "stream",
          "name": "stderr",
          "text": [
            "\rGenerating Maps:  10%|█         | 10/100 [00:05<00:43,  2.05it/s]"
          ]
        },
        {
          "output_type": "stream",
          "name": "stdout",
          "text": [
            "Path found for map 10.\n",
            "Map 10 generated successfully.\n"
          ]
        },
        {
          "output_type": "stream",
          "name": "stderr",
          "text": [
            "\rGenerating Maps:  11%|█         | 11/100 [00:05<00:38,  2.30it/s]"
          ]
        },
        {
          "output_type": "stream",
          "name": "stdout",
          "text": [
            "Path found for map 11.\n",
            "Map 11 generated successfully.\n"
          ]
        },
        {
          "output_type": "stream",
          "name": "stderr",
          "text": [
            "\rGenerating Maps:  12%|█▏        | 12/100 [00:06<00:36,  2.40it/s]"
          ]
        },
        {
          "output_type": "stream",
          "name": "stdout",
          "text": [
            "Path found for map 12.\n",
            "Map 12 generated successfully.\n"
          ]
        },
        {
          "output_type": "stream",
          "name": "stderr",
          "text": [
            "\rGenerating Maps:  13%|█▎        | 13/100 [00:06<00:40,  2.16it/s]"
          ]
        },
        {
          "output_type": "stream",
          "name": "stdout",
          "text": [
            "Path found for map 13.\n",
            "Map 13 generated successfully.\n"
          ]
        },
        {
          "output_type": "stream",
          "name": "stderr",
          "text": [
            "\rGenerating Maps:  14%|█▍        | 14/100 [00:07<00:37,  2.27it/s]"
          ]
        },
        {
          "output_type": "stream",
          "name": "stdout",
          "text": [
            "Path found for map 14.\n",
            "Map 14 generated successfully.\n"
          ]
        },
        {
          "output_type": "stream",
          "name": "stderr",
          "text": [
            "\rGenerating Maps:  15%|█▌        | 15/100 [00:07<00:42,  2.02it/s]"
          ]
        },
        {
          "output_type": "stream",
          "name": "stdout",
          "text": [
            "Path found for map 15.\n",
            "Map 15 generated successfully.\n"
          ]
        },
        {
          "output_type": "stream",
          "name": "stderr",
          "text": [
            "\rGenerating Maps:  16%|█▌        | 16/100 [00:08<00:39,  2.11it/s]"
          ]
        },
        {
          "output_type": "stream",
          "name": "stdout",
          "text": [
            "Path found for map 16.\n",
            "Map 16 generated successfully.\n"
          ]
        },
        {
          "output_type": "stream",
          "name": "stderr",
          "text": [
            "\rGenerating Maps:  17%|█▋        | 17/100 [00:08<00:38,  2.17it/s]"
          ]
        },
        {
          "output_type": "stream",
          "name": "stdout",
          "text": [
            "Path found for map 17.\n",
            "Map 17 generated successfully.\n",
            "Path found for map 18.\n"
          ]
        },
        {
          "output_type": "stream",
          "name": "stderr",
          "text": [
            "\rGenerating Maps:  18%|█▊        | 18/100 [00:09<00:40,  2.04it/s]"
          ]
        },
        {
          "output_type": "stream",
          "name": "stdout",
          "text": [
            "Map 18 generated successfully.\n",
            "Path found for map 19.\n"
          ]
        },
        {
          "output_type": "stream",
          "name": "stderr",
          "text": [
            "\rGenerating Maps:  19%|█▉        | 19/100 [00:09<00:48,  1.66it/s]"
          ]
        },
        {
          "output_type": "stream",
          "name": "stdout",
          "text": [
            "Map 19 generated successfully.\n"
          ]
        },
        {
          "output_type": "stream",
          "name": "stderr",
          "text": [
            "\rGenerating Maps:  20%|██        | 20/100 [00:10<00:42,  1.86it/s]"
          ]
        },
        {
          "output_type": "stream",
          "name": "stdout",
          "text": [
            "Path found for map 20.\n",
            "Map 20 generated successfully.\n"
          ]
        },
        {
          "output_type": "stream",
          "name": "stderr",
          "text": [
            "\rGenerating Maps:  21%|██        | 21/100 [00:10<00:38,  2.04it/s]"
          ]
        },
        {
          "output_type": "stream",
          "name": "stdout",
          "text": [
            "Path found for map 21.\n",
            "Map 21 generated successfully.\n"
          ]
        },
        {
          "output_type": "stream",
          "name": "stderr",
          "text": [
            "\rGenerating Maps:  22%|██▏       | 22/100 [00:11<00:34,  2.27it/s]"
          ]
        },
        {
          "output_type": "stream",
          "name": "stdout",
          "text": [
            "Path found for map 22.\n",
            "Map 22 generated successfully.\n"
          ]
        },
        {
          "output_type": "stream",
          "name": "stderr",
          "text": [
            "\rGenerating Maps:  23%|██▎       | 23/100 [00:11<00:31,  2.47it/s]"
          ]
        },
        {
          "output_type": "stream",
          "name": "stdout",
          "text": [
            "Path found for map 23.\n",
            "Map 23 generated successfully.\n"
          ]
        },
        {
          "output_type": "stream",
          "name": "stderr",
          "text": [
            "\rGenerating Maps:  24%|██▍       | 24/100 [00:11<00:30,  2.49it/s]"
          ]
        },
        {
          "output_type": "stream",
          "name": "stdout",
          "text": [
            "Path found for map 24.\n",
            "Map 24 generated successfully.\n"
          ]
        },
        {
          "output_type": "stream",
          "name": "stderr",
          "text": [
            "\rGenerating Maps:  25%|██▌       | 25/100 [00:12<00:29,  2.54it/s]"
          ]
        },
        {
          "output_type": "stream",
          "name": "stdout",
          "text": [
            "Path found for map 25.\n",
            "Map 25 generated successfully.\n"
          ]
        },
        {
          "output_type": "stream",
          "name": "stderr",
          "text": [
            "\rGenerating Maps:  26%|██▌       | 26/100 [00:12<00:28,  2.61it/s]"
          ]
        },
        {
          "output_type": "stream",
          "name": "stdout",
          "text": [
            "Path found for map 26.\n",
            "Map 26 generated successfully.\n",
            "Path found for map 27.\n"
          ]
        },
        {
          "output_type": "stream",
          "name": "stderr",
          "text": [
            "\rGenerating Maps:  27%|██▋       | 27/100 [00:13<00:33,  2.16it/s]"
          ]
        },
        {
          "output_type": "stream",
          "name": "stdout",
          "text": [
            "Map 27 generated successfully.\n"
          ]
        },
        {
          "output_type": "stream",
          "name": "stderr",
          "text": [
            "\rGenerating Maps:  28%|██▊       | 28/100 [00:13<00:33,  2.12it/s]"
          ]
        },
        {
          "output_type": "stream",
          "name": "stdout",
          "text": [
            "Path found for map 28.\n",
            "Map 28 generated successfully.\n"
          ]
        },
        {
          "output_type": "stream",
          "name": "stderr",
          "text": [
            "\rGenerating Maps:  29%|██▉       | 29/100 [00:14<00:37,  1.90it/s]"
          ]
        },
        {
          "output_type": "stream",
          "name": "stdout",
          "text": [
            "Path found for map 29.\n",
            "Map 29 generated successfully.\n"
          ]
        },
        {
          "output_type": "stream",
          "name": "stderr",
          "text": [
            "\rGenerating Maps:  30%|███       | 30/100 [00:14<00:36,  1.91it/s]"
          ]
        },
        {
          "output_type": "stream",
          "name": "stdout",
          "text": [
            "Path found for map 30.\n",
            "Map 30 generated successfully.\n",
            "Path found for map 31.\n"
          ]
        },
        {
          "output_type": "stream",
          "name": "stderr",
          "text": [
            "\rGenerating Maps:  31%|███       | 31/100 [00:15<00:48,  1.42it/s]"
          ]
        },
        {
          "output_type": "stream",
          "name": "stdout",
          "text": [
            "Map 31 generated successfully.\n"
          ]
        },
        {
          "output_type": "stream",
          "name": "stderr",
          "text": [
            "\rGenerating Maps:  32%|███▏      | 32/100 [00:17<01:01,  1.10it/s]"
          ]
        },
        {
          "output_type": "stream",
          "name": "stdout",
          "text": [
            "Path found for map 32.\n",
            "Map 32 generated successfully.\n"
          ]
        },
        {
          "output_type": "stream",
          "name": "stderr",
          "text": [
            "\rGenerating Maps:  33%|███▎      | 33/100 [00:17<00:51,  1.30it/s]"
          ]
        },
        {
          "output_type": "stream",
          "name": "stdout",
          "text": [
            "Path found for map 33.\n",
            "Map 33 generated successfully.\n"
          ]
        },
        {
          "output_type": "stream",
          "name": "stderr",
          "text": [
            "\rGenerating Maps:  34%|███▍      | 34/100 [00:18<00:43,  1.53it/s]"
          ]
        },
        {
          "output_type": "stream",
          "name": "stdout",
          "text": [
            "Path found for map 34.\n",
            "Map 34 generated successfully.\n"
          ]
        },
        {
          "output_type": "stream",
          "name": "stderr",
          "text": [
            "\rGenerating Maps:  35%|███▌      | 35/100 [00:18<00:36,  1.77it/s]"
          ]
        },
        {
          "output_type": "stream",
          "name": "stdout",
          "text": [
            "Path found for map 35.\n",
            "Map 35 generated successfully.\n"
          ]
        },
        {
          "output_type": "stream",
          "name": "stderr",
          "text": [
            "\rGenerating Maps:  36%|███▌      | 36/100 [00:18<00:31,  2.02it/s]"
          ]
        },
        {
          "output_type": "stream",
          "name": "stdout",
          "text": [
            "Path found for map 36.\n",
            "Map 36 generated successfully.\n"
          ]
        },
        {
          "output_type": "stream",
          "name": "stderr",
          "text": [
            "\rGenerating Maps:  37%|███▋      | 37/100 [00:19<00:30,  2.09it/s]"
          ]
        },
        {
          "output_type": "stream",
          "name": "stdout",
          "text": [
            "Path found for map 37.\n",
            "Map 37 generated successfully.\n"
          ]
        },
        {
          "output_type": "stream",
          "name": "stderr",
          "text": [
            "\rGenerating Maps:  38%|███▊      | 38/100 [00:20<00:45,  1.37it/s]"
          ]
        },
        {
          "output_type": "stream",
          "name": "stdout",
          "text": [
            "Path found for map 38.\n",
            "Map 38 generated successfully.\n"
          ]
        },
        {
          "output_type": "stream",
          "name": "stderr",
          "text": [
            "\rGenerating Maps:  39%|███▉      | 39/100 [00:20<00:37,  1.61it/s]"
          ]
        },
        {
          "output_type": "stream",
          "name": "stdout",
          "text": [
            "Path found for map 39.\n",
            "Map 39 generated successfully.\n"
          ]
        },
        {
          "output_type": "stream",
          "name": "stderr",
          "text": [
            "\rGenerating Maps:  40%|████      | 40/100 [00:21<00:32,  1.82it/s]"
          ]
        },
        {
          "output_type": "stream",
          "name": "stdout",
          "text": [
            "Path found for map 40.\n",
            "Map 40 generated successfully.\n"
          ]
        },
        {
          "output_type": "stream",
          "name": "stderr",
          "text": [
            "\rGenerating Maps:  41%|████      | 41/100 [00:21<00:28,  2.07it/s]"
          ]
        },
        {
          "output_type": "stream",
          "name": "stdout",
          "text": [
            "Path found for map 41.\n",
            "Map 41 generated successfully.\n"
          ]
        },
        {
          "output_type": "stream",
          "name": "stderr",
          "text": [
            "\rGenerating Maps:  42%|████▏     | 42/100 [00:21<00:25,  2.31it/s]"
          ]
        },
        {
          "output_type": "stream",
          "name": "stdout",
          "text": [
            "Path found for map 42.\n",
            "Map 42 generated successfully.\n"
          ]
        },
        {
          "output_type": "stream",
          "name": "stderr",
          "text": [
            "\rGenerating Maps:  43%|████▎     | 43/100 [00:22<00:22,  2.53it/s]"
          ]
        },
        {
          "output_type": "stream",
          "name": "stdout",
          "text": [
            "Path found for map 43.\n",
            "Map 43 generated successfully.\n"
          ]
        },
        {
          "output_type": "stream",
          "name": "stderr",
          "text": [
            "\rGenerating Maps:  44%|████▍     | 44/100 [00:22<00:20,  2.68it/s]"
          ]
        },
        {
          "output_type": "stream",
          "name": "stdout",
          "text": [
            "Path found for map 44.\n",
            "Map 44 generated successfully.\n"
          ]
        },
        {
          "output_type": "stream",
          "name": "stderr",
          "text": [
            "\rGenerating Maps:  45%|████▌     | 45/100 [00:23<00:30,  1.81it/s]"
          ]
        },
        {
          "output_type": "stream",
          "name": "stdout",
          "text": [
            "Path found for map 45.\n",
            "Map 45 generated successfully.\n"
          ]
        },
        {
          "output_type": "stream",
          "name": "stderr",
          "text": [
            "\rGenerating Maps:  46%|████▌     | 46/100 [00:23<00:26,  2.03it/s]"
          ]
        },
        {
          "output_type": "stream",
          "name": "stdout",
          "text": [
            "Path found for map 46.\n",
            "Map 46 generated successfully.\n"
          ]
        },
        {
          "output_type": "stream",
          "name": "stderr",
          "text": [
            "\rGenerating Maps:  47%|████▋     | 47/100 [00:24<00:26,  2.00it/s]"
          ]
        },
        {
          "output_type": "stream",
          "name": "stdout",
          "text": [
            "Path found for map 47.\n",
            "Map 47 generated successfully.\n"
          ]
        },
        {
          "output_type": "stream",
          "name": "stderr",
          "text": [
            "\rGenerating Maps:  48%|████▊     | 48/100 [00:24<00:22,  2.27it/s]"
          ]
        },
        {
          "output_type": "stream",
          "name": "stdout",
          "text": [
            "Path found for map 48.\n",
            "Map 48 generated successfully.\n"
          ]
        },
        {
          "output_type": "stream",
          "name": "stderr",
          "text": [
            "\rGenerating Maps:  49%|████▉     | 49/100 [00:25<00:22,  2.25it/s]"
          ]
        },
        {
          "output_type": "stream",
          "name": "stdout",
          "text": [
            "Path found for map 49.\n",
            "Map 49 generated successfully.\n"
          ]
        },
        {
          "output_type": "stream",
          "name": "stderr",
          "text": [
            "\rGenerating Maps:  50%|█████     | 50/100 [00:25<00:21,  2.32it/s]"
          ]
        },
        {
          "output_type": "stream",
          "name": "stdout",
          "text": [
            "Path found for map 50.\n",
            "Map 50 generated successfully.\n"
          ]
        },
        {
          "output_type": "stream",
          "name": "stderr",
          "text": [
            "\rGenerating Maps:  51%|█████     | 51/100 [00:26<00:21,  2.32it/s]"
          ]
        },
        {
          "output_type": "stream",
          "name": "stdout",
          "text": [
            "Path found for map 51.\n",
            "Map 51 generated successfully.\n"
          ]
        },
        {
          "output_type": "stream",
          "name": "stderr",
          "text": [
            "\rGenerating Maps:  52%|█████▏    | 52/100 [00:26<00:21,  2.23it/s]"
          ]
        },
        {
          "output_type": "stream",
          "name": "stdout",
          "text": [
            "Path found for map 52.\n",
            "Map 52 generated successfully.\n",
            "Path found for map 53.\n"
          ]
        },
        {
          "output_type": "stream",
          "name": "stderr",
          "text": [
            "\rGenerating Maps:  53%|█████▎    | 53/100 [00:27<00:23,  1.97it/s]"
          ]
        },
        {
          "output_type": "stream",
          "name": "stdout",
          "text": [
            "Map 53 generated successfully.\n",
            "Path found for map 54.\n"
          ]
        },
        {
          "output_type": "stream",
          "name": "stderr",
          "text": [
            "\rGenerating Maps:  54%|█████▍    | 54/100 [00:27<00:23,  1.96it/s]"
          ]
        },
        {
          "output_type": "stream",
          "name": "stdout",
          "text": [
            "Map 54 generated successfully.\n",
            "Path found for map 55.\n"
          ]
        },
        {
          "output_type": "stream",
          "name": "stderr",
          "text": [
            "\rGenerating Maps:  55%|█████▌    | 55/100 [00:28<00:23,  1.89it/s]"
          ]
        },
        {
          "output_type": "stream",
          "name": "stdout",
          "text": [
            "Map 55 generated successfully.\n",
            "Path found for map 56.\n"
          ]
        },
        {
          "output_type": "stream",
          "name": "stderr",
          "text": [
            "\rGenerating Maps:  56%|█████▌    | 56/100 [00:28<00:23,  1.84it/s]"
          ]
        },
        {
          "output_type": "stream",
          "name": "stdout",
          "text": [
            "Map 56 generated successfully.\n"
          ]
        },
        {
          "output_type": "stream",
          "name": "stderr",
          "text": [
            "\rGenerating Maps:  57%|█████▋    | 57/100 [00:29<00:23,  1.81it/s]"
          ]
        },
        {
          "output_type": "stream",
          "name": "stdout",
          "text": [
            "Path found for map 57.\n",
            "Map 57 generated successfully.\n"
          ]
        },
        {
          "output_type": "stream",
          "name": "stderr",
          "text": [
            "\rGenerating Maps:  58%|█████▊    | 58/100 [00:29<00:20,  2.06it/s]"
          ]
        },
        {
          "output_type": "stream",
          "name": "stdout",
          "text": [
            "Path found for map 58.\n",
            "Map 58 generated successfully.\n"
          ]
        },
        {
          "output_type": "stream",
          "name": "stderr",
          "text": [
            "\rGenerating Maps:  59%|█████▉    | 59/100 [00:30<00:20,  2.03it/s]"
          ]
        },
        {
          "output_type": "stream",
          "name": "stdout",
          "text": [
            "Path found for map 59.\n",
            "Map 59 generated successfully.\n"
          ]
        },
        {
          "output_type": "stream",
          "name": "stderr",
          "text": [
            "\rGenerating Maps:  60%|██████    | 60/100 [00:31<00:26,  1.53it/s]"
          ]
        },
        {
          "output_type": "stream",
          "name": "stdout",
          "text": [
            "Path found for map 60.\n",
            "Map 60 generated successfully.\n"
          ]
        },
        {
          "output_type": "stream",
          "name": "stderr",
          "text": [
            "\rGenerating Maps:  61%|██████    | 61/100 [00:31<00:22,  1.75it/s]"
          ]
        },
        {
          "output_type": "stream",
          "name": "stdout",
          "text": [
            "Path found for map 61.\n",
            "Map 61 generated successfully.\n"
          ]
        },
        {
          "output_type": "stream",
          "name": "stderr",
          "text": [
            "\rGenerating Maps:  62%|██████▏   | 62/100 [00:31<00:19,  2.00it/s]"
          ]
        },
        {
          "output_type": "stream",
          "name": "stdout",
          "text": [
            "Path found for map 62.\n",
            "Map 62 generated successfully.\n"
          ]
        },
        {
          "output_type": "stream",
          "name": "stderr",
          "text": [
            "\rGenerating Maps:  63%|██████▎   | 63/100 [00:32<00:18,  1.98it/s]"
          ]
        },
        {
          "output_type": "stream",
          "name": "stdout",
          "text": [
            "Path found for map 63.\n",
            "Map 63 generated successfully.\n"
          ]
        },
        {
          "output_type": "stream",
          "name": "stderr",
          "text": [
            "\rGenerating Maps:  64%|██████▍   | 64/100 [00:32<00:16,  2.22it/s]"
          ]
        },
        {
          "output_type": "stream",
          "name": "stdout",
          "text": [
            "Path found for map 64.\n",
            "Map 64 generated successfully.\n"
          ]
        },
        {
          "output_type": "stream",
          "name": "stderr",
          "text": [
            "\rGenerating Maps:  65%|██████▌   | 65/100 [00:33<00:16,  2.10it/s]"
          ]
        },
        {
          "output_type": "stream",
          "name": "stdout",
          "text": [
            "Path found for map 65.\n",
            "Map 65 generated successfully.\n"
          ]
        },
        {
          "output_type": "stream",
          "name": "stderr",
          "text": [
            "\rGenerating Maps:  66%|██████▌   | 66/100 [00:33<00:15,  2.26it/s]"
          ]
        },
        {
          "output_type": "stream",
          "name": "stdout",
          "text": [
            "Path found for map 66.\n",
            "Map 66 generated successfully.\n"
          ]
        },
        {
          "output_type": "stream",
          "name": "stderr",
          "text": [
            "\rGenerating Maps:  67%|██████▋   | 67/100 [00:34<00:14,  2.30it/s]"
          ]
        },
        {
          "output_type": "stream",
          "name": "stdout",
          "text": [
            "Path found for map 67.\n",
            "Map 67 generated successfully.\n"
          ]
        },
        {
          "output_type": "stream",
          "name": "stderr",
          "text": [
            "\rGenerating Maps:  68%|██████▊   | 68/100 [00:34<00:13,  2.37it/s]"
          ]
        },
        {
          "output_type": "stream",
          "name": "stdout",
          "text": [
            "Path found for map 68.\n",
            "Map 68 generated successfully.\n"
          ]
        },
        {
          "output_type": "stream",
          "name": "stderr",
          "text": [
            "\rGenerating Maps:  69%|██████▉   | 69/100 [00:35<00:14,  2.16it/s]"
          ]
        },
        {
          "output_type": "stream",
          "name": "stdout",
          "text": [
            "Path found for map 69.\n",
            "Map 69 generated successfully.\n"
          ]
        },
        {
          "output_type": "stream",
          "name": "stderr",
          "text": [
            "\rGenerating Maps:  70%|███████   | 70/100 [00:35<00:13,  2.27it/s]"
          ]
        },
        {
          "output_type": "stream",
          "name": "stdout",
          "text": [
            "Path found for map 70.\n",
            "Map 70 generated successfully.\n"
          ]
        },
        {
          "output_type": "stream",
          "name": "stderr",
          "text": [
            "\rGenerating Maps:  71%|███████   | 71/100 [00:35<00:12,  2.26it/s]"
          ]
        },
        {
          "output_type": "stream",
          "name": "stdout",
          "text": [
            "Path found for map 71.\n",
            "Map 71 generated successfully.\n"
          ]
        },
        {
          "output_type": "stream",
          "name": "stderr",
          "text": [
            "\rGenerating Maps:  72%|███████▏  | 72/100 [00:36<00:11,  2.34it/s]"
          ]
        },
        {
          "output_type": "stream",
          "name": "stdout",
          "text": [
            "Path found for map 72.\n",
            "Map 72 generated successfully.\n"
          ]
        },
        {
          "output_type": "stream",
          "name": "stderr",
          "text": [
            "\rGenerating Maps:  73%|███████▎  | 73/100 [00:36<00:11,  2.41it/s]"
          ]
        },
        {
          "output_type": "stream",
          "name": "stdout",
          "text": [
            "Path found for map 73.\n",
            "Map 73 generated successfully.\n"
          ]
        },
        {
          "output_type": "stream",
          "name": "stderr",
          "text": [
            "\rGenerating Maps:  74%|███████▍  | 74/100 [00:37<00:09,  2.60it/s]"
          ]
        },
        {
          "output_type": "stream",
          "name": "stdout",
          "text": [
            "Path found for map 74.\n",
            "Map 74 generated successfully.\n"
          ]
        },
        {
          "output_type": "stream",
          "name": "stderr",
          "text": [
            "\rGenerating Maps:  75%|███████▌  | 75/100 [00:37<00:09,  2.67it/s]"
          ]
        },
        {
          "output_type": "stream",
          "name": "stdout",
          "text": [
            "Path found for map 75.\n",
            "Map 75 generated successfully.\n"
          ]
        },
        {
          "output_type": "stream",
          "name": "stderr",
          "text": [
            "\rGenerating Maps:  76%|███████▌  | 76/100 [00:37<00:09,  2.62it/s]"
          ]
        },
        {
          "output_type": "stream",
          "name": "stdout",
          "text": [
            "Path found for map 76.\n",
            "Map 76 generated successfully.\n"
          ]
        },
        {
          "output_type": "stream",
          "name": "stderr",
          "text": [
            "\rGenerating Maps:  77%|███████▋  | 77/100 [00:38<00:09,  2.33it/s]"
          ]
        },
        {
          "output_type": "stream",
          "name": "stdout",
          "text": [
            "Path found for map 77.\n",
            "Map 77 generated successfully.\n"
          ]
        },
        {
          "output_type": "stream",
          "name": "stderr",
          "text": [
            "\rGenerating Maps:  78%|███████▊  | 78/100 [00:38<00:08,  2.50it/s]"
          ]
        },
        {
          "output_type": "stream",
          "name": "stdout",
          "text": [
            "Path found for map 78.\n",
            "Map 78 generated successfully.\n"
          ]
        },
        {
          "output_type": "stream",
          "name": "stderr",
          "text": [
            "\rGenerating Maps:  79%|███████▉  | 79/100 [00:38<00:08,  2.60it/s]"
          ]
        },
        {
          "output_type": "stream",
          "name": "stdout",
          "text": [
            "Path found for map 79.\n",
            "Map 79 generated successfully.\n"
          ]
        },
        {
          "output_type": "stream",
          "name": "stderr",
          "text": [
            "\rGenerating Maps:  80%|████████  | 80/100 [00:39<00:07,  2.56it/s]"
          ]
        },
        {
          "output_type": "stream",
          "name": "stdout",
          "text": [
            "Path found for map 80.\n",
            "Map 80 generated successfully.\n",
            "Path found for map 81.\n"
          ]
        },
        {
          "output_type": "stream",
          "name": "stderr",
          "text": [
            "\rGenerating Maps:  81%|████████  | 81/100 [00:40<00:09,  2.06it/s]"
          ]
        },
        {
          "output_type": "stream",
          "name": "stdout",
          "text": [
            "Map 81 generated successfully.\n",
            "Path found for map 82.\n"
          ]
        },
        {
          "output_type": "stream",
          "name": "stderr",
          "text": [
            "\rGenerating Maps:  82%|████████▏ | 82/100 [00:40<00:10,  1.79it/s]"
          ]
        },
        {
          "output_type": "stream",
          "name": "stdout",
          "text": [
            "Map 82 generated successfully.\n"
          ]
        },
        {
          "output_type": "stream",
          "name": "stderr",
          "text": [
            "\rGenerating Maps:  83%|████████▎ | 83/100 [00:41<00:09,  1.84it/s]"
          ]
        },
        {
          "output_type": "stream",
          "name": "stdout",
          "text": [
            "Path found for map 83.\n",
            "Map 83 generated successfully.\n",
            "Path found for map 84.\n"
          ]
        },
        {
          "output_type": "stream",
          "name": "stderr",
          "text": [
            "\rGenerating Maps:  84%|████████▍ | 84/100 [00:41<00:08,  1.79it/s]"
          ]
        },
        {
          "output_type": "stream",
          "name": "stdout",
          "text": [
            "Map 84 generated successfully.\n"
          ]
        },
        {
          "output_type": "stream",
          "name": "stderr",
          "text": [
            "\rGenerating Maps:  85%|████████▌ | 85/100 [00:42<00:08,  1.67it/s]"
          ]
        },
        {
          "output_type": "stream",
          "name": "stdout",
          "text": [
            "Path found for map 85.\n",
            "Map 85 generated successfully.\n"
          ]
        },
        {
          "output_type": "stream",
          "name": "stderr",
          "text": [
            "\rGenerating Maps:  86%|████████▌ | 86/100 [00:42<00:07,  1.90it/s]"
          ]
        },
        {
          "output_type": "stream",
          "name": "stdout",
          "text": [
            "Path found for map 86.\n",
            "Map 86 generated successfully.\n"
          ]
        },
        {
          "output_type": "stream",
          "name": "stderr",
          "text": [
            "\rGenerating Maps:  87%|████████▋ | 87/100 [00:43<00:06,  1.89it/s]"
          ]
        },
        {
          "output_type": "stream",
          "name": "stdout",
          "text": [
            "Path found for map 87.\n",
            "Map 87 generated successfully.\n"
          ]
        },
        {
          "output_type": "stream",
          "name": "stderr",
          "text": [
            "\rGenerating Maps:  88%|████████▊ | 88/100 [00:44<00:06,  1.73it/s]"
          ]
        },
        {
          "output_type": "stream",
          "name": "stdout",
          "text": [
            "Path found for map 88.\n",
            "Map 88 generated successfully.\n"
          ]
        },
        {
          "output_type": "stream",
          "name": "stderr",
          "text": [
            "\rGenerating Maps:  89%|████████▉ | 89/100 [00:44<00:05,  1.90it/s]"
          ]
        },
        {
          "output_type": "stream",
          "name": "stdout",
          "text": [
            "Path found for map 89.\n",
            "Map 89 generated successfully.\n"
          ]
        },
        {
          "output_type": "stream",
          "name": "stderr",
          "text": [
            "\rGenerating Maps:  90%|█████████ | 90/100 [00:44<00:04,  2.10it/s]"
          ]
        },
        {
          "output_type": "stream",
          "name": "stdout",
          "text": [
            "Path found for map 90.\n",
            "Map 90 generated successfully.\n"
          ]
        },
        {
          "output_type": "stream",
          "name": "stderr",
          "text": [
            "\rGenerating Maps:  91%|█████████ | 91/100 [00:45<00:04,  2.11it/s]"
          ]
        },
        {
          "output_type": "stream",
          "name": "stdout",
          "text": [
            "Path found for map 91.\n",
            "Map 91 generated successfully.\n"
          ]
        },
        {
          "output_type": "stream",
          "name": "stderr",
          "text": [
            "\rGenerating Maps:  92%|█████████▏| 92/100 [00:45<00:03,  2.37it/s]"
          ]
        },
        {
          "output_type": "stream",
          "name": "stdout",
          "text": [
            "Path found for map 92.\n",
            "Map 92 generated successfully.\n"
          ]
        },
        {
          "output_type": "stream",
          "name": "stderr",
          "text": [
            "\rGenerating Maps:  93%|█████████▎| 93/100 [00:46<00:03,  2.16it/s]"
          ]
        },
        {
          "output_type": "stream",
          "name": "stdout",
          "text": [
            "Path found for map 93.\n",
            "Map 93 generated successfully.\n"
          ]
        },
        {
          "output_type": "stream",
          "name": "stderr",
          "text": [
            "\rGenerating Maps:  94%|█████████▍| 94/100 [00:47<00:03,  1.80it/s]"
          ]
        },
        {
          "output_type": "stream",
          "name": "stdout",
          "text": [
            "Path found for map 94.\n",
            "Map 94 generated successfully.\n"
          ]
        },
        {
          "output_type": "stream",
          "name": "stderr",
          "text": [
            "\rGenerating Maps:  95%|█████████▌| 95/100 [00:47<00:02,  1.88it/s]"
          ]
        },
        {
          "output_type": "stream",
          "name": "stdout",
          "text": [
            "Path found for map 95.\n",
            "Map 95 generated successfully.\n"
          ]
        },
        {
          "output_type": "stream",
          "name": "stderr",
          "text": [
            "\rGenerating Maps:  96%|█████████▌| 96/100 [00:47<00:01,  2.01it/s]"
          ]
        },
        {
          "output_type": "stream",
          "name": "stdout",
          "text": [
            "Path found for map 96.\n",
            "Map 96 generated successfully.\n"
          ]
        },
        {
          "output_type": "stream",
          "name": "stderr",
          "text": [
            "\rGenerating Maps:  97%|█████████▋| 97/100 [00:48<00:01,  2.23it/s]"
          ]
        },
        {
          "output_type": "stream",
          "name": "stdout",
          "text": [
            "Path found for map 97.\n",
            "Map 97 generated successfully.\n"
          ]
        },
        {
          "output_type": "stream",
          "name": "stderr",
          "text": [
            "\rGenerating Maps:  98%|█████████▊| 98/100 [00:48<00:00,  2.39it/s]"
          ]
        },
        {
          "output_type": "stream",
          "name": "stdout",
          "text": [
            "Path found for map 98.\n",
            "Map 98 generated successfully.\n"
          ]
        },
        {
          "output_type": "stream",
          "name": "stderr",
          "text": [
            "\rGenerating Maps:  99%|█████████▉| 99/100 [00:49<00:00,  2.38it/s]"
          ]
        },
        {
          "output_type": "stream",
          "name": "stdout",
          "text": [
            "Path found for map 99.\n",
            "Map 99 generated successfully.\n"
          ]
        },
        {
          "output_type": "stream",
          "name": "stderr",
          "text": [
            "Generating Maps: 100%|██████████| 100/100 [00:49<00:00,  2.02it/s]"
          ]
        },
        {
          "output_type": "stream",
          "name": "stdout",
          "text": [
            "Path found for map 100.\n",
            "Map 100 generated successfully.\n"
          ]
        },
        {
          "output_type": "stream",
          "name": "stderr",
          "text": [
            "\n"
          ]
        }
      ]
    },
    {
      "cell_type": "code",
      "source": [
        "# prompt: 查看/content/output/coordinates和/content/output/maps有多少个文件\n",
        "\n",
        "import os\n",
        "\n",
        "coordinates_dir = \"/content/output/coordinates\"\n",
        "maps_dir = \"/content/output/maps\"\n",
        "\n",
        "coordinates_count = len([name for name in os.listdir(coordinates_dir) if os.path.isfile(os.path.join(coordinates_dir, name))])\n",
        "maps_count = len([name for name in os.listdir(maps_dir) if os.path.isfile(os.path.join(maps_dir, name))])\n",
        "\n",
        "print(f\"Number of files in {coordinates_dir}: {coordinates_count}\")\n",
        "print(f\"Number of files in {maps_dir}: {maps_count}\")"
      ],
      "metadata": {
        "colab": {
          "base_uri": "https://localhost:8080/",
          "height": 1000
        },
        "collapsed": true,
        "id": "PrVvMQad9mB-",
        "outputId": "b6ee3a88-e273-4704-d5ef-d99a696d2e73"
      },
      "execution_count": 181,
      "outputs": [
        {
          "output_type": "stream",
          "name": "stdout",
          "text": [
            "Number of files in /content/output/coordinates: 105\n",
            "Number of files in /content/output/maps: 105\n"
          ]
        },
        {
          "output_type": "display_data",
          "data": {
            "text/plain": [
              "<Figure size 640x480 with 0 Axes>"
            ]
          },
          "metadata": {}
        },
        {
          "output_type": "display_data",
          "data": {
            "text/plain": [
              "<Figure size 775x770 with 1 Axes>"
            ],
            "image/png": "[encoded data removed]"
          },
          "metadata": {}
        },
        {
          "output_type": "display_data",
          "data": {
            "text/plain": [
              "<Figure size 1000x1000 with 1 Axes>"
            ],
            "image/png": "[encoded data removed]"
          },
          "metadata": {}
        },
        {
          "output_type": "display_data",
          "data": {
            "text/plain": [
              "<Figure size 1000x1000 with 1 Axes>"
            ],
            "image/png": "[encoded data removed]"
          },
          "metadata": {}
        },
        {
          "output_type": "display_data",
          "data": {
            "text/plain": [
              "<Figure size 1000x1000 with 1 Axes>"
            ],
            "image/png": "[encoded data removed]"
          },
          "metadata": {}
        }
      ]
    },
    {
      "cell_type": "markdown",
      "source": [
        "# 删除文件"
      ],
      "metadata": {
        "id": "bcRs6Cke5S1m"
      }
    },
    {
      "cell_type": "code",
      "source": [
        "# prompt: 清空/content/output/coordinates和/content/output/maps文件夹\n",
        "\n",
        "import shutil\n",
        "import os\n",
        "\n",
        "def delete_folder_contents(folder_path):\n",
        "  \"\"\"Deletes all files and subfolders within a given folder.\"\"\"\n",
        "  try:\n",
        "    for filename in os.listdir(folder_path):\n",
        "      file_path = os.path.join(folder_path, filename)\n",
        "      try:\n",
        "        if os.path.isfile(file_path) or os.path.islink(file_path):\n",
        "          os.unlink(file_path)\n",
        "        elif os.path.isdir(file_path):\n",
        "          shutil.rmtree(file_path)\n",
        "      except Exception as e:\n",
        "        print('Failed to delete %s. Reason: %s' % (file_path, e))\n",
        "  except FileNotFoundError:\n",
        "      print(f\"Folder '{folder_path}' not found.\")\n",
        "\n",
        "# Delete contents of /content/output/coordinates\n",
        "delete_folder_contents(\"/content/output/coordinates\")\n",
        "\n",
        "# Delete contents of /content/output/maps\n",
        "delete_folder_contents(\"/content/output/maps\")"
      ],
      "metadata": {
        "colab": {
          "base_uri": "https://localhost:8080/",
          "height": 1000
        },
        "id": "elCZn1M4rQj7",
        "outputId": "a296496f-a449-480a-9bd8-69ef8a576eca"
      },
      "execution_count": 182,
      "outputs": [
        {
          "output_type": "display_data",
          "data": {
            "text/plain": [
              "<Figure size 1000x1000 with 1 Axes>"
            ],
            "image/png": "[encoded data removed]"
          },
          "metadata": {}
        },
        {
          "output_type": "display_data",
          "data": {
            "text/plain": [
              "<Figure size 1000x1000 with 1 Axes>"
            ],
            "image/png": "[encoded data removed]"
          },
          "metadata": {}
        },
        {
          "output_type": "display_data",
          "data": {
            "text/plain": [
              "<Figure size 1000x1000 with 1 Axes>"
            ],
            "image/png": "[encoded data removed]"
          },
          "metadata": {}
        }
      ]
    }
  ]
}